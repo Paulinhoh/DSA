{
 "cells": [
  {
   "cell_type": "markdown",
   "metadata": {},
   "source": [
    "#### Pseudocódigo 01 - Calcular a area de um paralelograma\n",
    "Nota: um paralelograma é um quadrilatero com lados opostos paralelos (e portanto ângulos opostos iguais). Um quadrilatero com lados iguais é chamado de losango e um paralelogramo cujos ângulos são todos ângulos retos é chamado de retângulo."
   ]
  },
  {
   "cell_type": "markdown",
   "metadata": {},
   "source": [
    "Inicie\n",
    "\n",
    "    Exiba \"Bem-vindo ao programa de calculo de area de paralelograma\"\n",
    "    Peça para o usuario inserir o comprimento da base\n",
    "    Armazene o comprimento da base em uma variavel\n",
    "    Peça para o usuario inserir a altura\n",
    "    Armazene a altura em uma variavel\n",
    "    Calcule a área do paralelograma: base * altura\n",
    "    Armazene o resultado em uma variavel\n",
    "    Exiba \"A area do paralelograma é\", resultado\n",
    "\n",
    "Fim"
   ]
  },
  {
   "cell_type": "code",
   "execution_count": null,
   "metadata": {},
   "outputs": [
    {
     "name": "stdout",
     "output_type": "stream",
     "text": [
      "Bem-vindo ao programa de calculo de area de paralelograma\n"
     ]
    }
   ],
   "source": [
    "print(\"Bem-vindo ao programa de calculo de area de paralelograma\")\n",
    "\n",
    "base: float = float(input('Digite a base: '))\n",
    "altura: float = float(input('Digite a altura: '))\n",
    "\n",
    "resultado: float = base * altura\n",
    "\n",
    "print(\"A area do paralelograma é\", resultado)"
   ]
  },
  {
   "cell_type": "markdown",
   "metadata": {},
   "source": [
    "#### Pseudocódigo 02 - Calculadora Simples"
   ]
  },
  {
   "cell_type": "markdown",
   "metadata": {},
   "source": [
    "Inicie\n",
    "\n",
    "    Exiba \"Bem-vindo à Calculadora\"\n",
    "    Peça para o usuário inserir o primeiro número\n",
    "    Armazene o primeiro número em uma variável\n",
    "    Peça para o usuário inserir o segundo número\n",
    "    Armazene o segundo número em uma variável\n",
    "    Peça para o usuário selecionar uma operação (+, -, *, /)\n",
    "    Armazene a operação em uma variável\n",
    "    Utilize a operação selecionada e os números armazenados para realizar o cálculo\n",
    "    Exiba o resultado\n",
    "\n",
    "Fim"
   ]
  },
  {
   "cell_type": "code",
   "execution_count": null,
   "metadata": {},
   "outputs": [],
   "source": [
    "print(\"Bem-vindo à Calculadora\")\n",
    "\n",
    "valor1: float = float(input(\"Digite o primeiro valor: \"))\n",
    "valor2: float = float(input(\"Digite o segundo valor: \"))\n",
    "\n",
    "operacao: str = input(\"Digite a operação [+, -, *, /]: \")\n",
    "if operacao == \"+\":\n",
    "    resultado: float = valor1 + valor2\n",
    "elif operacao == \"-\":\n",
    "    resultado: float = valor1 - valor2\n",
    "elif operacao == \"*\":\n",
    "    resultado: float = valor1 * valor2\n",
    "elif operacao == \"/\" and valor2 != 0:\n",
    "    resultado: float = valor1 / valor2\n",
    "else:\n",
    "    print(\"Operação inválida\")\n",
    "    exit(1)\n",
    "\n",
    "print(\"Resultado: \", resultado)"
   ]
  },
  {
   "cell_type": "markdown",
   "metadata": {},
   "source": [
    "#### Pseudocódigo 3 - Algoritmo Bubble Sort\n",
    "\n",
    "Bubble Sort é um algoritmo de ordenação simples que funciona comparando cada elemento com o próximo, e trocando-os de lugar se eles estiverem em ordem incorreta. O algoritmo repete esse processo várias vezes, até que todos os elementos estejam ordenados. A cada passagem, o maior elemento \"flutua\" para o final do array, como uma bolha, dando origem ao nome do algoritmo."
   ]
  },
  {
   "cell_type": "markdown",
   "metadata": {},
   "source": [
    "Inicie\n",
    "    \n",
    "    Para cada elemento i no array de tamanho n\n",
    "        Para cada elemento j no array de tamanho n - 1\n",
    "            Se elemento i for maior que elemento j\n",
    "                Troque os elementos i e j\n",
    "    Exiba o array ordenado\n",
    "\n",
    "Fim"
   ]
  },
  {
   "cell_type": "code",
   "execution_count": 14,
   "metadata": {},
   "outputs": [],
   "source": [
    "lista:list = [2, 10, 19, 3, 5]"
   ]
  },
  {
   "cell_type": "code",
   "execution_count": 15,
   "metadata": {},
   "outputs": [],
   "source": [
    "def bubble_sort(arr):\n",
    "    n = len(arr)\n",
    "    for i in range(n):\n",
    "        for j in range(i+1, n):\n",
    "            if arr[i] > arr[j]:\n",
    "                arr[i], arr[j] = arr[j], arr[i]\n",
    "    return arr"
   ]
  },
  {
   "cell_type": "code",
   "execution_count": 16,
   "metadata": {},
   "outputs": [
    {
     "name": "stdout",
     "output_type": "stream",
     "text": [
      "[2, 3, 5, 10, 19]\n"
     ]
    }
   ],
   "source": [
    "print(bubble_sort(lista))"
   ]
  }
 ],
 "metadata": {
  "kernelspec": {
   "display_name": "anaconda3",
   "language": "python",
   "name": "python3"
  },
  "language_info": {
   "codemirror_mode": {
    "name": "ipython",
    "version": 3
   },
   "file_extension": ".py",
   "mimetype": "text/x-python",
   "name": "python",
   "nbconvert_exporter": "python",
   "pygments_lexer": "ipython3",
   "version": "3.12.7"
  }
 },
 "nbformat": 4,
 "nbformat_minor": 2
}
